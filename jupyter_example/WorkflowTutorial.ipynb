{
 "cells": [
  {
   "cell_type": "markdown",
   "metadata": {},
   "source": [
    "# Example - URBANopt Project with REopt Gem "
   ]
  },
  {
   "cell_type": "raw",
   "metadata": {},
   "source": [
    "This example project will walk you through the basics of integrating the REopt Gem within an URBANopt project.\n",
    "\n",
    "Before running this, be sure to have run from the main directory:\n",
    "    $ bundle install\n",
    "    $ bundle update\n",
    "\n",
    "First we will import some required packages and variable"
   ]
  },
  {
   "cell_type": "code",
   "execution_count": 21,
   "metadata": {},
   "outputs": [
    {
     "data": {
      "text/plain": [
       "false"
      ]
     },
     "execution_count": 21,
     "metadata": {},
     "output_type": "execute_result"
    }
   ],
   "source": [
    "require 'openstudio/extension'\n",
    "require 'openstudio/extension/rake_task'\n",
    "require 'urbanopt/scenario'\n",
    "require 'urbanopt/geojson'\n",
    "require 'urbanopt/reopt_scenario'\n",
    "require 'urbanopt/reopt'\n",
    "require 'daru'"
   ]
  },
  {
   "cell_type": "code",
   "execution_count": 22,
   "metadata": {
    "scrolled": false
   },
   "outputs": [
    {
     "name": "stderr",
     "output_type": "stream",
     "text": [
      "<main>: warning: already initialized constant DEVELOPER_NREL_KEY\n"
     ]
    },
    {
     "data": {
      "text/plain": [
       "\"2we3uMoY5IDi8HUMIUYuinl734RNmC5xF7iOXqbg\""
      ]
     },
     "execution_count": 22,
     "metadata": {},
     "output_type": "execute_result"
    }
   ],
   "source": [
    "DEVELOPER_NREL_KEY = '2we3uMoY5IDi8HUMIUYuinl734RNmC5xF7iOXqbg'"
   ]
  },
  {
   "cell_type": "markdown",
   "metadata": {},
   "source": [
    "## Setup"
   ]
  },
  {
   "cell_type": "raw",
   "metadata": {},
   "source": [
    "Next we will set up a scenario, using the baseline case as an example. Here we see in addition to the regular scenario set up we also have new variables, being the \"reopt_files_dir\" and the \"scenario_reopt_assumptions_file_name\". These variables are useful in adjusting REopt Lite assumptions (i.e. utility rate setting, capital costs, financial lifetime of project).\n",
    "\n",
    "\"reopt_files_dir\" - This folder path is needed if we want to use non-default assumptions when calling REopt Lite. For example, in most cases we will want to change the utility rate, and this can only be done by updating the default assumptions. This folder must contain a .json file for all the assumptions we want to use, formatted according to the guidelines in https://developer.nrel.gov/docs/energy-optimization/reopt-v1/\n",
    "\n",
    "\"scenario_reopt_assumptions_file_name\" - This is the name of the file in \"reopt_files_dir\" which will be used for analysis at the scenario level (i.e. all feature load profiles are aggregated into one communal load and optimized once by REopt Lite).\n",
    "\n",
    "Note, assumptions are mapped to features in the csv file as shown below.\n"
   ]
  },
  {
   "cell_type": "code",
   "execution_count": 23,
   "metadata": {},
   "outputs": [
    {
     "data": {
      "text/plain": [
       ":baseline_scenario"
      ]
     },
     "execution_count": 23,
     "metadata": {},
     "output_type": "execute_result"
    }
   ],
   "source": [
    "def baseline_scenario\n",
    "  root_dir = File.absolute_path(File.dirname(__FILE__))\n",
    "  name = 'Baseline Scenario'\n",
    "  run_dir = File.join(File.dirname(__FILE__), 'run/baseline_scenario/')\n",
    "  feature_file_path = File.join(File.dirname(__FILE__), 'example_project.json')\n",
    "  csv_file = File.join(File.dirname(__FILE__), 'baseline_scenario.csv')\n",
    "  mapper_files_dir = File.join(File.dirname(__FILE__), '../mappers/')\n",
    "  reopt_files_dir = File.join(File.dirname(__FILE__), '../reopt/')\n",
    "  scenario_reopt_assumptions_file_name = 'base_assumptions.json'\n",
    "  num_header_rows = 1\n",
    "\n",
    "  feature_file = URBANopt::GeoJSON::GeoFile.from_file(feature_file_path)\n",
    "  scenario = URBANopt::Scenario::REoptScenarioCSV.new(name, root_dir, run_dir, feature_file, mapper_files_dir, csv_file, num_header_rows, reopt_files_dir, scenario_reopt_assumptions_file_name)\n",
    "  return scenario\n",
    "end\n"
   ]
  },
  {
   "cell_type": "raw",
   "metadata": {},
   "source": [
    "Before we go further, let's take a look at the input csv to see how assumption files are mapped to features:"
   ]
  },
  {
   "cell_type": "code",
   "execution_count": 24,
   "metadata": {},
   "outputs": [
    {
     "data": {
      "text/html": [
       "<b> Daru::DataFrame(3x4) </b>\n",
       "<table border=\"1\" class=\"dataframe\">\n",
       "  <thead>\n",
       "  \n",
       "    <tr>\n",
       "      <th></th>\n",
       "      \n",
       "        <th>Feature Id</th>\n",
       "      \n",
       "        <th>Feature Name</th>\n",
       "      \n",
       "        <th>Mapper Class</th>\n",
       "      \n",
       "        <th>REopt Assumptions</th>\n",
       "      \n",
       "    </tr>\n",
       "  \n",
       "</thead>\n",
       "  <tbody>\n",
       "  \n",
       "    <tr>\n",
       "      <td>0</td>\n",
       "      \n",
       "        <td>1</td>\n",
       "      \n",
       "        <td>Mixed_use 1</td>\n",
       "      \n",
       "        <td>URBANopt::Scenario::BaselineMapper</td>\n",
       "      \n",
       "        <td>base_assumptions.json</td>\n",
       "      \n",
       "    </tr>\n",
       "  \n",
       "    <tr>\n",
       "      <td>1</td>\n",
       "      \n",
       "        <td>2</td>\n",
       "      \n",
       "        <td>Restaurant 1</td>\n",
       "      \n",
       "        <td>URBANopt::Scenario::BaselineMapper</td>\n",
       "      \n",
       "        <td>base_assumptions.json</td>\n",
       "      \n",
       "    </tr>\n",
       "  \n",
       "    <tr>\n",
       "      <td>2</td>\n",
       "      \n",
       "        <td>3</td>\n",
       "      \n",
       "        <td>Residential 1</td>\n",
       "      \n",
       "        <td>URBANopt::Scenario::BaselineMapper</td>\n",
       "      \n",
       "        <td>base_assumptions.json</td>\n",
       "      \n",
       "    </tr>\n",
       "  \n",
       "\n",
       "  \n",
       "</tbody>\n",
       "</table>"
      ],
      "text/plain": [
       "#<Daru::DataFrame(3x4)>\n",
       "            Feature Id Feature Na Mapper Cla REopt Assu\n",
       "          0          1 Mixed_use  URBANopt:: base_assum\n",
       "          1          2 Restaurant URBANopt:: base_assum\n",
       "          2          3 Residentia URBANopt:: base_assum"
      ]
     },
     "execution_count": 24,
     "metadata": {},
     "output_type": "execute_result"
    }
   ],
   "source": [
    "csv_file = File.join(File.dirname(__FILE__), 'baseline_scenario.csv')\n",
    "Daru::DataFrame.from_csv csv_file"
   ]
  },
  {
   "cell_type": "raw",
   "metadata": {},
   "source": [
    "As you can see, the CSV has a fourth column \"REopt Assumptions\", which shows the name of the file in the \"reopt_files_dir\" to use in calling REopt Lite for that feature."
   ]
  },
  {
   "cell_type": "raw",
   "metadata": {},
   "source": [
    "Before we go further, let's also take a look at what some of the key REopt Assumptions look like:"
   ]
  },
  {
   "cell_type": "code",
   "execution_count": 25,
   "metadata": {},
   "outputs": [
    {
     "name": "stdout",
     "output_type": "stream",
     "text": [
      "\"PV\"\n",
      "{\"existing_kw\"=>0, \"min_kw\"=>0, \"max_kw\"=>1000000000.0, \"installed_cost_us_dollars_per_kw\"=>1600, \"om_cost_us_dollars_per_kw\"=>16, \"macrs_option_years\"=>5, \"macrs_bonus_pct\"=>1, \"macrs_itc_reduction\"=>0.5, \"federal_itc_pct\"=>0.26, \"state_ibi_pct\"=>0, \"state_ibi_max_us_dollars\"=>10000000000.0, \"utility_ibi_pct\"=>0, \"utility_ibi_max_us_dollars\"=>10000000000.0, \"federal_rebate_us_dollars_per_kw\"=>0, \"state_rebate_us_dollars_per_kw\"=>0, \"state_rebate_max_us_dollars\"=>10000000000.0, \"utility_rebate_us_dollars_per_kw\"=>0, \"utility_rebate_max_us_dollars\"=>10000000000.0, \"pbi_us_dollars_per_kwh\"=>0, \"pbi_max_us_dollars\"=>1000000000.0, \"pbi_years\"=>1, \"pbi_system_max_kw\"=>1000000000.0, \"degradation_pct\"=>0.005, \"azimuth\"=>180, \"losses\"=>0.14, \"array_type\"=>1, \"module_type\"=>0, \"gcr\"=>0.4, \"dc_ac_ratio\"=>1.2, \"inv_eff\"=>0.96, \"radius\"=>0, \"tilt\"=>0.537}\n",
      "\"Storage\"\n",
      "{\"min_kw\"=>0, \"max_kw\"=>1000000, \"min_kwh\"=>0, \"max_kwh\"=>1000000, \"internal_efficiency_pct\"=>0.975, \"inverter_efficiency_pct\"=>0.96, \"rectifier_efficiency_pct\"=>0.96, \"soc_min_pct\"=>0.2, \"soc_init_pct\"=>0.5, \"canGridCharge\"=>true, \"installed_cost_us_dollars_per_kw\"=>840, \"installed_cost_us_dollars_per_kwh\"=>420, \"replace_cost_us_dollars_per_kw\"=>410, \"replace_cost_us_dollars_per_kwh\"=>200, \"inverter_replacement_year\"=>10, \"battery_replacement_year\"=>10, \"macrs_option_years\"=>7, \"macrs_bonus_pct\"=>1, \"macrs_itc_reduction\"=>0.5, \"total_itc_pct\"=>0.0, \"total_rebate_us_dollars_per_kw\"=>0}\n",
      "\"ElectricTariff\"\n",
      "{\"add_blended_rates_to_urdb_rate\"=>false, \"net_metering_limit_kw\"=>0, \"interconnection_limit_kw\"=>100000000.0, \"urdb_label\"=>\"5e162e2a5457a3d50873e3af\"}\n",
      "\"Financial\"\n",
      "{\"om_cost_escalation_pct\"=>0.025, \"escalation_pct\"=>0.023, \"offtaker_tax_pct\"=>0.26, \"offtaker_discount_pct\"=>0.083, \"analysis_years\"=>25, \"value_of_lost_load_us_dollars_per_kwh\"=>100, \"microgrid_upgrade_cost_pct\"=>0.3}\n"
     ]
    },
    {
     "data": {
      "text/plain": [
       "[\"Financial\", {\"om_cost_escalation_pct\"=>0.025, \"escalation_pct\"=>0.023, \"offtaker_tax_pct\"=>0.26, \"offtaker_discount_pct\"=>0.083, \"analysis_years\"=>25, \"value_of_lost_load_us_dollars_per_kwh\"=>100, \"microgrid_upgrade_cost_pct\"=>0.3}]"
      ]
     },
     "execution_count": 25,
     "metadata": {},
     "output_type": "execute_result"
    }
   ],
   "source": [
    "feature_reports_hash = nil\n",
    "File.open('../reopt/base_assumptions.json', 'r') do |file|\n",
    "  feature_reports_hash = JSON.parse(file.read)\n",
    "end\n",
    "\n",
    "p \"PV\", feature_reports_hash[\"Scenario\"]['Site']['PV']\n",
    "p \"Storage\", feature_reports_hash[\"Scenario\"]['Site']['Storage']\n",
    "p \"ElectricTariff\", feature_reports_hash[\"Scenario\"]['Site']['ElectricTariff']\n",
    "p \"Financial\", feature_reports_hash[\"Scenario\"]['Site']['Financial']\n"
   ]
  },
  {
   "cell_type": "markdown",
   "metadata": {},
   "source": [
    "## Post Processing"
   ]
  },
  {
   "cell_type": "raw",
   "metadata": {},
   "source": [
    "Next, well walk through the post-processing of a scenario where the actual calls to REopt Lite  take place. Fist we run the scenario, and extract the \"scenario_report\" hash and \"scenario_base\" (which contains some of our setup settings)."
   ]
  },
  {
   "cell_type": "code",
   "execution_count": 27,
   "metadata": {},
   "outputs": [
    {
     "data": {
      "text/plain": [
       "true"
      ]
     },
     "execution_count": 27,
     "metadata": {},
     "output_type": "execute_result"
    }
   ],
   "source": [
    "default_post_processor = URBANopt::Scenario::ScenarioDefaultPostProcessor.new(baseline_scenario)\n",
    "scenario_report = default_post_processor.run\n",
    "scenario_base = default_post_processor.scenario_base\n",
    "scenario_report.save"
   ]
  },
  {
   "cell_type": "raw",
   "metadata": {},
   "source": [
    "We're now ready to set up the REopt post processor. Instantiation of this helper, requires at least an API for developer.nrel.gov. \n",
    "\n",
    "For convenience, we can also instantiate it with a scenario report and the location of the scenario and feature level assumption files. \n",
    "\n",
    "By passing a scenario report to it, we get default locations to later save REopt responses and updated timeseries CSV files. We'll look more at these paths in future steps.\n",
    "\n",
    "By passing the location of the scenario and feature level assumption files to the REopt post processor, we get these .json files converted to hashes for us."
   ]
  },
  {
   "cell_type": "code",
   "execution_count": 28,
   "metadata": {},
   "outputs": [
    {
     "data": {
      "text/plain": [
       "true"
      ]
     },
     "execution_count": 28,
     "metadata": {},
     "output_type": "execute_result"
    }
   ],
   "source": [
    "reopt_post_processor = URBANopt::REopt::REoptPostProcessor.new(scenario_report,scenario_base.scenario_reopt_assumptions_file, scenario_base.reopt_feature_assumptions, DEVELOPER_NREL_KEY) \n",
    "true"
   ]
  },
  {
   "cell_type": "raw",
   "metadata": {},
   "source": [
    "Let's take a look at the converted REopt assumption hashes we get because we provided both scenario_base.scenario_reopt_assumptions_file and scenario_base.reopt_feature_assumptions to the REopt post processor. \n",
    "\n",
    "Note that feauture level assumptions is a list in the same order of the features as saved in the scenario report."
   ]
  },
  {
   "cell_type": "code",
   "execution_count": 29,
   "metadata": {},
   "outputs": [
    {
     "name": "stdout",
     "output_type": "stream",
     "text": [
      "\"Scenario Level Assumptions\"\n",
      "{:Scenario=>{:Site=>{:Financial=>{:om_cost_escalation_pct=>0.025, :escalation_pct=>0.023, :offtaker_tax_pct=>0.26, :offtaker_discount_pct=>0.083, :analysis_years=>25, :value_of_lost_load_us_dollars_per_kwh=>100, :microgrid_upgrade_cost_pct=>0.3}, :LoadProfile=>{:year=>2018, :loads_kw_is_net=>true, :critical_loads_kw_is_net=>false, :critical_load_pct=>0.5, :outage_is_major_event=>true}, :ElectricTariff=>{:add_blended_rates_to_urdb_rate=>false, :net_metering_limit_kw=>0, :interconnection_limit_kw=>100000000.0, :urdb_label=>\"5e162e2a5457a3d50873e3af\"}, :Wind=>{:min_kw=>0, :max_kw=>0, :installed_cost_us_dollars_per_kw=>3013, :om_cost_us_dollars_per_kw=>40, :macrs_option_years=>5, :macrs_bonus_pct=>1, :macrs_itc_reduction=>0.5, :federal_itc_pct=>0.26, :state_ibi_pct=>0, :state_ibi_max_us_dollars=>10000000000.0, :utility_ibi_pct=>0, :utility_ibi_max_us_dollars=>10000000000.0, :federal_rebate_us_dollars_per_kw=>0, :state_rebate_us_dollars_per_kw=>0, :state_rebate_max_us_dollars=>10000000000.0, :utility_rebate_us_dollars_per_kw=>0, :utility_rebate_max_us_dollars=>10000000000.0, :pbi_us_dollars_per_kwh=>0, :pbi_max_us_dollars=>1000000000.0, :pbi_years=>1, :pbi_system_max_kw=>1000000000.0}, :PV=>{:existing_kw=>0, :min_kw=>0, :max_kw=>1000000000.0, :installed_cost_us_dollars_per_kw=>1600, :om_cost_us_dollars_per_kw=>16, :macrs_option_years=>5, :macrs_bonus_pct=>1, :macrs_itc_reduction=>0.5, :federal_itc_pct=>0.26, :state_ibi_pct=>0, :state_ibi_max_us_dollars=>10000000000.0, :utility_ibi_pct=>0, :utility_ibi_max_us_dollars=>10000000000.0, :federal_rebate_us_dollars_per_kw=>0, :state_rebate_us_dollars_per_kw=>0, :state_rebate_max_us_dollars=>10000000000.0, :utility_rebate_us_dollars_per_kw=>0, :utility_rebate_max_us_dollars=>10000000000.0, :pbi_us_dollars_per_kwh=>0, :pbi_max_us_dollars=>1000000000.0, :pbi_years=>1, :pbi_system_max_kw=>1000000000.0, :degradation_pct=>0.005, :azimuth=>180, :losses=>0.14, :array_type=>1, :module_type=>0, :gcr=>0.4, :dc_ac_ratio=>1.2, :inv_eff=>0.96, :radius=>0, :tilt=>0.537}, :Storage=>{:min_kw=>0, :max_kw=>1000000, :min_kwh=>0, :max_kwh=>1000000, :internal_efficiency_pct=>0.975, :inverter_efficiency_pct=>0.96, :rectifier_efficiency_pct=>0.96, :soc_min_pct=>0.2, :soc_init_pct=>0.5, :canGridCharge=>true, :installed_cost_us_dollars_per_kw=>840, :installed_cost_us_dollars_per_kwh=>420, :replace_cost_us_dollars_per_kw=>410, :replace_cost_us_dollars_per_kwh=>200, :inverter_replacement_year=>10, :battery_replacement_year=>10, :macrs_option_years=>7, :macrs_bonus_pct=>1, :macrs_itc_reduction=>0.5, :total_itc_pct=>0.0, :total_rebate_us_dollars_per_kw=>0}, :Generator=>{:existing_kw=>0, :min_kw=>0, :max_kw=>1000000000.0, :installed_cost_us_dollars_per_kw=>500, :om_cost_us_dollars_per_kw=>10, :om_cost_us_dollars_per_kwh=>0.0, :diesel_fuel_cost_us_dollars_per_gallon=>3, :fuel_slope_gal_per_kwh=>0.076, :fuel_intercept_gal_per_hr=>0, :fuel_avail_gal=>660, :min_turn_down_pct=>0, :generator_only_runs_during_grid_outage=>true, :generator_sells_energy_back_to_grid=>false, :macrs_option_years=>0, :macrs_bonus_pct=>1, :macrs_itc_reduction=>0, :federal_itc_pct=>0, :state_ibi_pct=>0, :state_ibi_max_us_dollars=>0, :utility_ibi_pct=>0, :utility_ibi_max_us_dollars=>0, :federal_rebate_us_dollars_per_kw=>0, :state_rebate_us_dollars_per_kw=>0, :state_rebate_max_us_dollars=>0, :utility_rebate_us_dollars_per_kw=>0, :utility_rebate_max_us_dollars=>0, :pbi_us_dollars_per_kwh=>0, :pbi_max_us_dollars=>0, :pbi_years=>0, :pbi_system_max_kw=>0}}, :timeout_seconds=>295, :time_steps_per_hour=>1}}\n",
      "\"Feature Level Assumptions\"\n"
     ]
    },
    {
     "name": "stdout",
     "output_type": "stream",
     "text": [
      "[{:Scenario=>{:Site=>{:Financial=>{:om_cost_escalation_pct=>0.025, :escalation_pct=>0.023, :offtaker_tax_pct=>0.26, :offtaker_discount_pct=>0.083, :analysis_years=>25, :value_of_lost_load_us_dollars_per_kwh=>100, :microgrid_upgrade_cost_pct=>0.3}, :LoadProfile=>{:year=>2018, :loads_kw_is_net=>true, :critical_loads_kw_is_net=>false, :critical_load_pct=>0.5, :outage_is_major_event=>true}, :ElectricTariff=>{:add_blended_rates_to_urdb_rate=>false, :net_metering_limit_kw=>0, :interconnection_limit_kw=>100000000.0, :urdb_label=>\"5e162e2a5457a3d50873e3af\"}, :Wind=>{:min_kw=>0, :max_kw=>0, :installed_cost_us_dollars_per_kw=>3013, :om_cost_us_dollars_per_kw=>40, :macrs_option_years=>5, :macrs_bonus_pct=>1, :macrs_itc_reduction=>0.5, :federal_itc_pct=>0.26, :state_ibi_pct=>0, :state_ibi_max_us_dollars=>10000000000.0, :utility_ibi_pct=>0, :utility_ibi_max_us_dollars=>10000000000.0, :federal_rebate_us_dollars_per_kw=>0, :state_rebate_us_dollars_per_kw=>0, :state_rebate_max_us_dollars=>10000000000.0, :utility_rebate_us_dollars_per_kw=>0, :utility_rebate_max_us_dollars=>10000000000.0, :pbi_us_dollars_per_kwh=>0, :pbi_max_us_dollars=>1000000000.0, :pbi_years=>1, :pbi_system_max_kw=>1000000000.0}, :PV=>{:existing_kw=>0, :min_kw=>0, :max_kw=>1000000000.0, :installed_cost_us_dollars_per_kw=>1600, :om_cost_us_dollars_per_kw=>16, :macrs_option_years=>5, :macrs_bonus_pct=>1, :macrs_itc_reduction=>0.5, :federal_itc_pct=>0.26, :state_ibi_pct=>0, :state_ibi_max_us_dollars=>10000000000.0, :utility_ibi_pct=>0, :utility_ibi_max_us_dollars=>10000000000.0, :federal_rebate_us_dollars_per_kw=>0, :state_rebate_us_dollars_per_kw=>0, :state_rebate_max_us_dollars=>10000000000.0, :utility_rebate_us_dollars_per_kw=>0, :utility_rebate_max_us_dollars=>10000000000.0, :pbi_us_dollars_per_kwh=>0, :pbi_max_us_dollars=>1000000000.0, :pbi_years=>1, :pbi_system_max_kw=>1000000000.0, :degradation_pct=>0.005, :azimuth=>180, :losses=>0.14, :array_type=>1, :module_type=>0, :gcr=>0.4, :dc_ac_ratio=>1.2, :inv_eff=>0.96, :radius=>0, :tilt=>0.537}, :Storage=>{:min_kw=>0, :max_kw=>1000000, :min_kwh=>0, :max_kwh=>1000000, :internal_efficiency_pct=>0.975, :inverter_efficiency_pct=>0.96, :rectifier_efficiency_pct=>0.96, :soc_min_pct=>0.2, :soc_init_pct=>0.5, :canGridCharge=>true, :installed_cost_us_dollars_per_kw=>840, :installed_cost_us_dollars_per_kwh=>420, :replace_cost_us_dollars_per_kw=>410, :replace_cost_us_dollars_per_kwh=>200, :inverter_replacement_year=>10, :battery_replacement_year=>10, :macrs_option_years=>7, :macrs_bonus_pct=>1, :macrs_itc_reduction=>0.5, :total_itc_pct=>0.0, :total_rebate_us_dollars_per_kw=>0}, :Generator=>{:existing_kw=>0, :min_kw=>0, :max_kw=>1000000000.0, :installed_cost_us_dollars_per_kw=>500, :om_cost_us_dollars_per_kw=>10, :om_cost_us_dollars_per_kwh=>0.0, :diesel_fuel_cost_us_dollars_per_gallon=>3, :fuel_slope_gal_per_kwh=>0.076, :fuel_intercept_gal_per_hr=>0, :fuel_avail_gal=>660, :min_turn_down_pct=>0, :generator_only_runs_during_grid_outage=>true, :generator_sells_energy_back_to_grid=>false, :macrs_option_years=>0, :macrs_bonus_pct=>1, :macrs_itc_reduction=>0, :federal_itc_pct=>0, :state_ibi_pct=>0, :state_ibi_max_us_dollars=>0, :utility_ibi_pct=>0, :utility_ibi_max_us_dollars=>0, :federal_rebate_us_dollars_per_kw=>0, :state_rebate_us_dollars_per_kw=>0, :state_rebate_max_us_dollars=>0, :utility_rebate_us_dollars_per_kw=>0, :utility_rebate_max_us_dollars=>0, :pbi_us_dollars_per_kwh=>0, :pbi_max_us_dollars=>0, :pbi_years=>0, :pbi_system_max_kw=>0}}, :timeout_seconds=>295, :time_steps_per_hour=>1}}, {:Scenario=>{:Site=>{:Financial=>{:om_cost_escalation_pct=>0.025, :escalation_pct=>0.023, :offtaker_tax_pct=>0.26, :offtaker_discount_pct=>0.083, :analysis_years=>25, :value_of_lost_load_us_dollars_per_kwh=>100, :microgrid_upgrade_cost_pct=>0.3}, :LoadProfile=>{:year=>2018, :loads_kw_is_net=>true, :critical_loads_kw_is_net=>false, :critical_load_pct=>0.5, :outage_is_major_event=>true}, :ElectricTariff=>{:add_blended_rates_to_urdb_rate=>false, :net_metering_limit_kw=>0, :interconnection_limit_kw=>100000000.0, :urdb_label=>\"5e162e2a5457a3d50873e3af\"}, :Wind=>{:min_kw=>0, :max_kw=>0, :installed_cost_us_dollars_per_kw=>3013, :om_cost_us_dollars_per_kw=>40, :macrs_option_years=>5, :macrs_bonus_pct=>1, :macrs_itc_reduction=>0.5, :federal_itc_pct=>0.26, :state_ibi_pct=>0, :state_ibi_max_us_dollars=>10000000000.0, :utility_ibi_pct=>0, :utility_ibi_max_us_dollars=>10000000000.0, :federal_rebate_us_dollars_per_kw=>0, :state_rebate_us_dollars_per_kw=>0, :state_rebate_max_us_dollars=>10000000000.0, :utility_rebate_us_dollars_per_kw=>0, :utility_rebate_max_us_dollars=>10000000000.0, :pbi_us_dollars_per_kwh=>0, :pbi_max_us_dollars=>1000000000.0, :pbi_years=>1, :pbi_system_max_kw=>1000000000.0}, :PV=>{:existing_kw=>0, :min_kw=>0, :max_kw=>1000000000.0, :installed_cost_us_dollars_per_kw=>1600, :om_cost_us_dollars_per_kw=>16, :macrs_option_years=>5, :macrs_bonus_pct=>1, :macrs_itc_reduction=>0.5, :federal_itc_pct=>0.26, :state_ibi_pct=>0, :state_ibi_max_us_dollars=>10000000000.0, :utility_ibi_pct=>0, :utility_ibi_max_us_dollars=>10000000000.0, :federal_rebate_us_dollars_per_kw=>0, :state_rebate_us_dollars_per_kw=>0, :state_rebate_max_us_dollars=>10000000000.0, :utility_rebate_us_dollars_per_kw=>0, :utility_rebate_max_us_dollars=>10000000000.0, :pbi_us_dollars_per_kwh=>0, :pbi_max_us_dollars=>1000000000.0, :pbi_years=>1, :pbi_system_max_kw=>1000000000.0, :degradation_pct=>0.005, :azimuth=>180, :losses=>0.14, :array_type=>1, :module_type=>0, :gcr=>0.4, :dc_ac_ratio=>1.2, :inv_eff=>0.96, :radius=>0, :tilt=>0.537}, :Storage=>{:min_kw=>0, :max_kw=>1000000, :min_kwh=>0, :max_kwh=>1000000, :internal_efficiency_pct=>0.975, :inverter_efficiency_pct=>0.96, :rectifier_efficiency_pct=>0.96, :soc_min_pct=>0.2, :soc_init_pct=>0.5, :canGridCharge=>true, :installed_cost_us_dollars_per_kw=>840, :installed_cost_us_dollars_per_kwh=>420, :replace_cost_us_dollars_per_kw=>410, :replace_cost_us_dollars_per_kwh=>200, :inverter_replacement_year=>10, :battery_replacement_year=>10, :macrs_option_years=>7, :macrs_bonus_pct=>1, :macrs_itc_reduction=>0.5, :total_itc_pct=>0.0, :total_rebate_us_dollars_per_kw=>0}, :Generator=>{:existing_kw=>0, :min_kw=>0, :max_kw=>1000000000.0, :installed_cost_us_dollars_per_kw=>500, :om_cost_us_dollars_per_kw=>10, :om_cost_us_dollars_per_kwh=>0.0, :diesel_fuel_cost_us_dollars_per_gallon=>3, :fuel_slope_gal_per_kwh=>0.076, :fuel_intercept_gal_per_hr=>0, :fuel_avail_gal=>660, :min_turn_down_pct=>0, :generator_only_runs_during_grid_outage=>true, :generator_sells_energy_back_to_grid=>false, :macrs_option_years=>0, :macrs_bonus_pct=>1, :macrs_itc_reduction=>0, :federal_itc_pct=>0, :state_ibi_pct=>0, :state_ibi_max_us_dollars=>0, :utility_ibi_pct=>0, :utility_ibi_max_us_dollars=>0, :federal_rebate_us_dollars_per_kw=>0, :state_rebate_us_dollars_per_kw=>0, :state_rebate_max_us_dollars=>0, :utility_rebate_us_dollars_per_kw=>0, :utility_rebate_max_us_dollars=>0, :pbi_us_dollars_per_kwh=>0, :pbi_max_us_dollars=>0, :pbi_years=>0, :pbi_system_max_kw=>0}}, :timeout_seconds=>295, :time_steps_per_hour=>1}}, {:Scenario=>{:Site=>{:Financial=>{:om_cost_escalation_pct=>0.025, :escalation_pct=>0.023, :offtaker_tax_pct=>0.26, :offtaker_discount_pct=>0.083, :analysis_years=>25, :value_of_lost_load_us_dollars_per_kwh=>100, :microgrid_upgrade_cost_pct=>0.3}, :LoadProfile=>{:year=>2018, :loads_kw_is_net=>true, :critical_loads_kw_is_net=>false, :critical_load_pct=>0.5, :outage_is_major_event=>true}, :ElectricTariff=>{:add_blended_rates_to_urdb_rate=>false, :net_metering_limit_kw=>0, :interconnection_limit_kw=>100000000.0, :urdb_label=>\"5e162e2a5457a3d50873e3af\"}, :Wind=>{:min_kw=>0, :max_kw=>0, :installed_cost_us_dollars_per_kw=>3013, :om_cost_us_dollars_per_kw=>40, :macrs_option_years=>5, :macrs_bonus_pct=>1, :macrs_itc_reduction=>0.5, :federal_itc_pct=>0.26, :state_ibi_pct=>0, :state_ibi_max_us_dollars=>10000000000.0, :utility_ibi_pct=>0, :utility_ibi_max_us_dollars=>10000000000.0, :federal_rebate_us_dollars_per_kw=>0, :state_rebate_us_dollars_per_kw=>0, :state_rebate_max_us_dollars=>10000000000.0, :utility_rebate_us_dollars_per_kw=>0, :utility_rebate_max_us_dollars=>10000000000.0, :pbi_us_dollars_per_kwh=>0, :pbi_max_us_dollars=>1000000000.0, :pbi_years=>1, :pbi_system_max_kw=>1000000000.0}, :PV=>{:existing_kw=>0, :min_kw=>0, :max_kw=>1000000000.0, :installed_cost_us_dollars_per_kw=>1600, :om_cost_us_dollars_per_kw=>16, :macrs_option_years=>5, :macrs_bonus_pct=>1, :macrs_itc_reduction=>0.5, :federal_itc_pct=>0.26, :state_ibi_pct=>0, :state_ibi_max_us_dollars=>10000000000.0, :utility_ibi_pct=>0, :utility_ibi_max_us_dollars=>10000000000.0, :federal_rebate_us_dollars_per_kw=>0, :state_rebate_us_dollars_per_kw=>0, :state_rebate_max_us_dollars=>10000000000.0, :utility_rebate_us_dollars_per_kw=>0, :utility_rebate_max_us_dollars=>10000000000.0, :pbi_us_dollars_per_kwh=>0, :pbi_max_us_dollars=>1000000000.0, :pbi_years=>1, :pbi_system_max_kw=>1000000000.0, :degradation_pct=>0.005, :azimuth=>180, :losses=>0.14, :array_type=>1, :module_type=>0, :gcr=>0.4, :dc_ac_ratio=>1.2, :inv_eff=>0.96, :radius=>0, :tilt=>0.537}, :Storage=>{:min_kw=>0, :max_kw=>1000000, :min_kwh=>0, :max_kwh=>1000000, :internal_efficiency_pct=>0.975, :inverter_efficiency_pct=>0.96, :rectifier_efficiency_pct=>0.96, :soc_min_pct=>0.2, :soc_init_pct=>0.5, :canGridCharge=>true, :installed_cost_us_dollars_per_kw=>840, :installed_cost_us_dollars_per_kwh=>420, :replace_cost_us_dollars_per_kw=>410, :replace_cost_us_dollars_per_kwh=>200, :inverter_replacement_year=>10, :battery_replacement_year=>10, :macrs_option_years=>7, :macrs_bonus_pct=>1, :macrs_itc_reduction=>0.5, :total_itc_pct=>0.0, :total_rebate_us_dollars_per_kw=>0}, :Generator=>{:existing_kw=>0, :min_kw=>0, :max_kw=>1000000000.0, :installed_cost_us_dollars_per_kw=>500, :om_cost_us_dollars_per_kw=>10, :om_cost_us_dollars_per_kwh=>0.0, :diesel_fuel_cost_us_dollars_per_gallon=>3, :fuel_slope_gal_per_kwh=>0.076, :fuel_intercept_gal_per_hr=>0, :fuel_avail_gal=>660, :min_turn_down_pct=>0, :generator_only_runs_during_grid_outage=>true, :generator_sells_energy_back_to_grid=>false, :macrs_option_years=>0, :macrs_bonus_pct=>1, :macrs_itc_reduction=>0, :federal_itc_pct=>0, :state_ibi_pct=>0, :state_ibi_max_us_dollars=>0, :utility_ibi_pct=>0, :utility_ibi_max_us_dollars=>0, :federal_rebate_us_dollars_per_kw=>0, :state_rebate_us_dollars_per_kw=>0, :state_rebate_max_us_dollars=>0, :utility_rebate_us_dollars_per_kw=>0, :utility_rebate_max_us_dollars=>0, :pbi_us_dollars_per_kwh=>0, :pbi_max_us_dollars=>0, :pbi_years=>0, :pbi_system_max_kw=>0}}, :timeout_seconds=>295, :time_steps_per_hour=>1}}]\n"
     ]
    },
    {
     "data": {
      "text/plain": [
       "[\"Feature Level Assumptions\", [{:Scenario=>{:Site=>{:Financial=>{:om_cost_escalation_pct=>0.025, :escalation_pct=>0.023, :offtaker_tax_pct=>0.26, :offtaker_discount_pct=>0.083, :analysis_years=>25, :value_of_lost_load_us_dollars_per_kwh=>100, :microgrid_upgrade_cost_pct=>0.3}, :LoadProfile=>{:year=>2018, :loads_kw_is_net=>true, :critical_loads_kw_is_net=>false, :critical_load_pct=>0.5, :outage_is_major_event=>true}, :ElectricTariff=>{:add_blended_rates_to_urdb_rate=>false, :net_metering_limit_kw=>0, :interconnection_limit_kw=>100000000.0, :urdb_label=>\"5e162e2a5457a3d50873e3af\"}, :Wind=>{:min_kw=>0, :max_kw=>0, :installed_cost_us_dollars_per_kw=>3013, :om_cost_us_dollars_per_kw=>40, :macrs_option_years=>5, :macrs_bonus_pct=>1, :macrs_itc_reduction=>0.5, :federal_itc_pct=>0.26, :state_ibi_pct=>0, :state_ibi_max_us_dollars=>10000000000.0, :utility_ibi_pct=>0, :utility_ibi_max_us_dollars=>10000000000.0, :federal_rebate_us_dollars_per_kw=>0, :state_rebate_us_dollars_per_kw=>0, :state_rebate_max_us_dollars=>10000000000.0, :utility_rebate_us_dollars_per_kw=>0, :utility_rebate_max_us_dollars=>10000000000.0, :pbi_us_dollars_per_kwh=>0, :pbi_max_us_dollars=>1000000000.0, :pbi_years=>1, :pbi_system_max_kw=>1000000000.0}, :PV=>{:existing_kw=>0, :min_kw=>0, :max_kw=>1000000000.0, :installed_cost_us_dollars_per_kw=>1600, :om_cost_us_dollars_per_kw=>16, :macrs_option_years=>5, :macrs_bonus_pct=>1, :macrs_itc_reduction=>0.5, :federal_itc_pct=>0.26, :state_ibi_pct=>0, :state_ibi_max_us_dollars=>10000000000.0, :utility_ibi_pct=>0, :utility_ibi_max_us_dollars=>10000000000.0, :federal_rebate_us_dollars_per_kw=>0, :state_rebate_us_dollars_per_kw=>0, :state_rebate_max_us_dollars=>10000000000.0, :utility_rebate_us_dollars_per_kw=>0, :utility_rebate_max_us_dollars=>10000000000.0, :pbi_us_dollars_per_kwh=>0, :pbi_max_us_dollars=>1000000000.0, :pbi_years=>1, :pbi_system_max_kw=>1000000000.0, :degradation_pct=>0.005, :azimuth=>180, :losses=>0.14, :array_type=>1, :module_type=>0, :gcr=>0.4, :dc_ac_ratio=>1.2, :inv_eff=>0.96, :radius=>0, :tilt=>0.537}, :Storage=>{:min_kw=>0, :max_kw=>1000000, :min_kwh=>0, :max_kwh=>1000000, :internal_efficiency_pct=>0.975, :inverter_efficiency_pct=>0.96, :rectifier_efficiency_pct=>0.96, :soc_min_pct=>0.2, :soc_init_pct=>0.5, :canGridCharge=>true, :installed_cost_us_dollars_per_kw=>840, :installed_cost_us_dollars_per_kwh=>420, :replace_cost_us_dollars_per_kw=>410, :replace_cost_us_dollars_per_kwh=>200, :inverter_replacement_year=>10, :battery_replacement_year=>10, :macrs_option_years=>7, :macrs_bonus_pct=>1, :macrs_itc_reduction=>0.5, :total_itc_pct=>0.0, :total_rebate_us_dollars_per_kw=>0}, :Generator=>{:existing_kw=>0, :min_kw=>0, :max_kw=>1000000000.0, :installed_cost_us_dollars_per_kw=>500, :om_cost_us_dollars_per_kw=>10, :om_cost_us_dollars_per_kwh=>0.0, :diesel_fuel_cost_us_dollars_per_gallon=>3, :fuel_slope_gal_per_kwh=>0.076, :fuel_intercept_gal_per_hr=>0, :fuel_avail_gal=>660, :min_turn_down_pct=>0, :generator_only_runs_during_grid_outage=>true, :generator_sells_energy_back_to_grid=>false, :macrs_option_years=>0, :macrs_bonus_pct=>1, :macrs_itc_reduction=>0, :federal_itc_pct=>0, :state_ibi_pct=>0, :state_ibi_max_us_dollars=>0, :utility_ibi_pct=>0, :utility_ibi_max_us_dollars=>0, :federal_rebate_us_dollars_per_kw=>0, :state_rebate_us_dollars_per_kw=>0, :state_rebate_max_us_dollars=>0, :utility_rebate_us_dollars_per_kw=>0, :utility_rebate_max_us_dollars=>0, :pbi_us_dollars_per_kwh=>0, :pbi_max_us_dollars=>0, :pbi_years=>0, :pbi_system_max_kw=>0}}, :timeout_seconds=>295, :time_steps_per_hour=>1}}, {:Scenario=>{:Site=>{:Financial=>{:om_cost_escalation_pct=>0.025, :escalation_pct=>0.023, :offtaker_tax_pct=>0.26, :offtaker_discount_pct=>0.083, :analysis_years=>25, :value_of_lost_load_us_dollars_per_kwh=>100, :microgrid_upgrade_cost_pct=>0.3}, :LoadProfile=>{:year=>2018, :loads_kw_is_net=>true, :critical_loads_kw_is_net=>false, :critical_load_pct=>0.5, :outage_is_major_event=>true}, :ElectricTariff=>{:add_blended_rates_to_urdb_rate=>false, :net_metering_limit_kw=>0, :interconnection_limit_kw=>100000000.0, :urdb_label=>\"5e162e2a5457a3d50873e3af\"}, :Wind=>{:min_kw=>0, :max_kw=>0, :installed_cost_us_dollars_per_kw=>3013, :om_cost_us_dollars_per_kw=>40, :macrs_option_years=>5, :macrs_bonus_pct=>1, :macrs_itc_reduction=>0.5, :federal_itc_pct=>0.26, :state_ibi_pct=>0, :state_ibi_max_us_dollars=>10000000000.0, :utility_ibi_pct=>0, :utility_ibi_max_us_dollars=>10000000000.0, :federal_rebate_us_dollars_per_kw=>0, :state_rebate_us_dollars_per_kw=>0, :state_rebate_max_us_dollars=>10000000000.0, :utility_rebate_us_dollars_per_kw=>0, :utility_rebate_max_us_dollars=>10000000000.0, :pbi_us_dollars_per_kwh=>0, :pbi_max_us_dollars=>1000000000.0, :pbi_years=>1, :pbi_system_max_kw=>1000000000.0}, :PV=>{:existing_kw=>0, :min_kw=>0, :max_kw=>1000000000.0, :installed_cost_us_dollars_per_kw=>1600, :om_cost_us_dollars_per_kw=>16, :macrs_option_years=>5, :macrs_bonus_pct=>1, :macrs_itc_reduction=>0.5, :federal_itc_pct=>0.26, :state_ibi_pct=>0, :state_ibi_max_us_dollars=>10000000000.0, :utility_ibi_pct=>0, :utility_ibi_max_us_dollars=>10000000000.0, :federal_rebate_us_dollars_per_kw=>0, :state_rebate_us_dollars_per_kw=>0, :state_rebate_max_us_dollars=>10000000000.0, :utility_rebate_us_dollars_per_kw=>0, :utility_rebate_max_us_dollars=>10000000000.0, :pbi_us_dollars_per_kwh=>0, :pbi_max_us_dollars=>1000000000.0, :pbi_years=>1, :pbi_system_max_kw=>1000000000.0, :degradation_pct=>0.005, :azimuth=>180, :losses=>0.14, :array_type=>1, :module_type=>0, :gcr=>0.4, :dc_ac_ratio=>1.2, :inv_eff=>0.96, :radius=>0, :tilt=>0.537}, :Storage=>{:min_kw=>0, :max_kw=>1000000, :min_kwh=>0, :max_kwh=>1000000, :internal_efficiency_pct=>0.975, :inverter_efficiency_pct=>0.96, :rectifier_efficiency_pct=>0.96, :soc_min_pct=>0.2, :soc_init_pct=>0.5, :canGridCharge=>true, :installed_cost_us_dollars_per_kw=>840, :installed_cost_us_dollars_per_kwh=>420, :replace_cost_us_dollars_per_kw=>410, :replace_cost_us_dollars_per_kwh=>200, :inverter_replacement_year=>10, :battery_replacement_year=>10, :macrs_option_years=>7, :macrs_bonus_pct=>1, :macrs_itc_reduction=>0.5, :total_itc_pct=>0.0, :total_rebate_us_dollars_per_kw=>0}, :Generator=>{:existing_kw=>0, :min_kw=>0, :max_kw=>1000000000.0, :installed_cost_us_dollars_per_kw=>500, :om_cost_us_dollars_per_kw=>10, :om_cost_us_dollars_per_kwh=>0.0, :diesel_fuel_cost_us_dollars_per_gallon=>3, :fuel_slope_gal_per_kwh=>0.076, :fuel_intercept_gal_per_hr=>0, :fuel_avail_gal=>660, :min_turn_down_pct=>0, :generator_only_runs_during_grid_outage=>true, :generator_sells_energy_back_to_grid=>false, :macrs_option_years=>0, :macrs_bonus_pct=>1, :macrs_itc_reduction=>0, :federal_itc_pct=>0, :state_ibi_pct=>0, :state_ibi_max_us_dollars=>0, :utility_ibi_pct=>0, :utility_ibi_max_us_dollars=>0, :federal_rebate_us_dollars_per_kw=>0, :state_rebate_us_dollars_per_kw=>0, :state_rebate_max_us_dollars=>0, :utility_rebate_us_dollars_per_kw=>0, :utility_rebate_max_us_dollars=>0, :pbi_us_dollars_per_kwh=>0, :pbi_max_us_dollars=>0, :pbi_years=>0, :pbi_system_max_kw=>0}}, :timeout_seconds=>295, :time_steps_per_hour=>1}}, {:Scenario=>{:Site=>{:Financial=>{:om_cost_escalation_pct=>0.025, :escalation_pct=>0.023, :offtaker_tax_pct=>0.26, :offtaker_discount_pct=>0.083, :analysis_years=>25, :value_of_lost_load_us_dollars_per_kwh=>100, :microgrid_upgrade_cost_pct=>0.3}, :LoadProfile=>{:year=>2018, :loads_kw_is_net=>true, :critical_loads_kw_is_net=>false, :critical_load_pct=>0.5, :outage_is_major_event=>true}, :ElectricTariff=>{:add_blended_rates_to_urdb_rate=>false, :net_metering_limit_kw=>0, :interconnection_limit_kw=>100000000.0, :urdb_label=>\"5e162e2a5457a3d50873e3af\"}, :Wind=>{:min_kw=>0, :max_kw=>0, :installed_cost_us_dollars_per_kw=>3013, :om_cost_us_dollars_per_kw=>40, :macrs_option_years=>5, :macrs_bonus_pct=>1, :macrs_itc_reduction=>0.5, :federal_itc_pct=>0.26, :state_ibi_pct=>0, :state_ibi_max_us_dollars=>10000000000.0, :utility_ibi_pct=>0, :utility_ibi_max_us_dollars=>10000000000.0, :federal_rebate_us_dollars_per_kw=>0, :state_rebate_us_dollars_per_kw=>0, :state_rebate_max_us_dollars=>10000000000.0, :utility_rebate_us_dollars_per_kw=>0, :utility_rebate_max_us_dollars=>10000000000.0, :pbi_us_dollars_per_kwh=>0, :pbi_max_us_dollars=>1000000000.0, :pbi_years=>1, :pbi_system_max_kw=>1000000000.0}, :PV=>{:existing_kw=>0, :min_kw=>0, :max_kw=>1000000000.0, :installed_cost_us_dollars_per_kw=>1600, :om_cost_us_dollars_per_kw=>16, :macrs_option_years=>5, :macrs_bonus_pct=>1, :macrs_itc_reduction=>0.5, :federal_itc_pct=>0.26, :state_ibi_pct=>0, :state_ibi_max_us_dollars=>10000000000.0, :utility_ibi_pct=>0, :utility_ibi_max_us_dollars=>10000000000.0, :federal_rebate_us_dollars_per_kw=>0, :state_rebate_us_dollars_per_kw=>0, :state_rebate_max_us_dollars=>10000000000.0, :utility_rebate_us_dollars_per_kw=>0, :utility_rebate_max_us_dollars=>10000000000.0, :pbi_us_dollars_per_kwh=>0, :pbi_max_us_dollars=>1000000000.0, :pbi_years=>1, :pbi_system_max_kw=>1000000000.0, :degradation_pct=>0.005, :azimuth=>180, :losses=>0.14, :array_type=>1, :module_type=>0, :gcr=>0.4, :dc_ac_ratio=>1.2, :inv_eff=>0.96, :radius=>0, :tilt=>0.537}, :Storage=>{:min_kw=>0, :max_kw=>1000000, :min_kwh=>0, :max_kwh=>1000000, :internal_efficiency_pct=>0.975, :inverter_efficiency_pct=>0.96, :rectifier_efficiency_pct=>0.96, :soc_min_pct=>0.2, :soc_init_pct=>0.5, :canGridCharge=>true, :installed_cost_us_dollars_per_kw=>840, :installed_cost_us_dollars_per_kwh=>420, :replace_cost_us_dollars_per_kw=>410, :replace_cost_us_dollars_per_kwh=>200, :inverter_replacement_year=>10, :battery_replacement_year=>10, :macrs_option_years=>7, :macrs_bonus_pct=>1, :macrs_itc_reduction=>0.5, :total_itc_pct=>0.0, :total_rebate_us_dollars_per_kw=>0}, :Generator=>{:existing_kw=>0, :min_kw=>0, :max_kw=>1000000000.0, :installed_cost_us_dollars_per_kw=>500, :om_cost_us_dollars_per_kw=>10, :om_cost_us_dollars_per_kwh=>0.0, :diesel_fuel_cost_us_dollars_per_gallon=>3, :fuel_slope_gal_per_kwh=>0.076, :fuel_intercept_gal_per_hr=>0, :fuel_avail_gal=>660, :min_turn_down_pct=>0, :generator_only_runs_during_grid_outage=>true, :generator_sells_energy_back_to_grid=>false, :macrs_option_years=>0, :macrs_bonus_pct=>1, :macrs_itc_reduction=>0, :federal_itc_pct=>0, :state_ibi_pct=>0, :state_ibi_max_us_dollars=>0, :utility_ibi_pct=>0, :utility_ibi_max_us_dollars=>0, :federal_rebate_us_dollars_per_kw=>0, :state_rebate_us_dollars_per_kw=>0, :state_rebate_max_us_dollars=>0, :utility_rebate_us_dollars_per_kw=>0, :utility_rebate_max_us_dollars=>0, :pbi_us_dollars_per_kwh=>0, :pbi_max_us_dollars=>0, :pbi_years=>0, :pbi_system_max_kw=>0}}, :timeout_seconds=>295, :time_steps_per_hour=>1}}]]"
      ]
     },
     "execution_count": 29,
     "metadata": {},
     "output_type": "execute_result"
    }
   ],
   "source": [
    "p \"Scenario Level Assumptions\", reopt_post_processor.scenario_reopt_default_assumptions_hash\n",
    "p\n",
    "p \"Feature Level Assumptions\", reopt_post_processor.feature_reports_reopt_default_assumption_hashes"
   ]
  },
  {
   "cell_type": "raw",
   "metadata": {},
   "source": [
    "Let's also look at where REopt reponses and updated timeseries CSV files will be saved. These were created in default locations because we created the REopt post processor with a scenario report as the first parameter."
   ]
  },
  {
   "cell_type": "code",
   "execution_count": 30,
   "metadata": {},
   "outputs": [
    {
     "name": "stdout",
     "output_type": "stream",
     "text": [
      "\"Scenario REopt Response\"\n",
      "\"./run/baseline_scenario/scenario_report_Baseline Scenario_reopt_run.json\"\n",
      "\"New Scenario Timeseries CSV\"\n",
      "\"./run/baseline_scenario/scenario_report_Baseline Scenario_timeseries.csv\"\n",
      "\"Feature REopt Responses\"\n",
      "[\"/Users/tkwasnik/github/urbanopt-example-reopt-project/run/baseline_scenario/1/feature_report_1_reopt_run.json\", \"/Users/tkwasnik/github/urbanopt-example-reopt-project/run/baseline_scenario/2/feature_report_2_reopt_run.json\", \"/Users/tkwasnik/github/urbanopt-example-reopt-project/run/baseline_scenario/3/feature_report_3_reopt_run.json\"]\n",
      "\"New Feature Timeseries CSVs\"\n",
      "[\"/Users/tkwasnik/github/urbanopt-example-reopt-project/run/baseline_scenario/1/feature_report_1_timeseries.csv\", \"/Users/tkwasnik/github/urbanopt-example-reopt-project/run/baseline_scenario/2/feature_report_2_timeseries.csv\", \"/Users/tkwasnik/github/urbanopt-example-reopt-project/run/baseline_scenario/3/feature_report_3_timeseries.csv\"]\n"
     ]
    },
    {
     "data": {
      "text/plain": [
       "[\"New Feature Timeseries CSVs\", [\"/Users/tkwasnik/github/urbanopt-example-reopt-project/run/baseline_scenario/1/feature_report_1_timeseries.csv\", \"/Users/tkwasnik/github/urbanopt-example-reopt-project/run/baseline_scenario/2/feature_report_2_timeseries.csv\", \"/Users/tkwasnik/github/urbanopt-example-reopt-project/run/baseline_scenario/3/feature_report_3_timeseries.csv\"]]"
      ]
     },
     "execution_count": 30,
     "metadata": {},
     "output_type": "execute_result"
    }
   ],
   "source": [
    "p 'Scenario REopt Response',reopt_post_processor.scenario_reopt_default_output_file\n",
    "p 'New Scenario Timeseries CSV', reopt_post_processor.scenario_timeseries_default_output_file\n",
    "p 'Feature REopt Responses',reopt_post_processor.feature_reports_reopt_default_output_files\n",
    "p 'New Feature Timeseries CSVs', reopt_post_processor.feature_reports_timeseries_default_output_files"
   ]
  },
  {
   "cell_type": "raw",
   "metadata": {},
   "source": [
    "Let's now run REopt once at the aggregate scenario level. Then save results to a new hash.\n",
    "\n",
    "Note, it may take several minutes to get the results from the API."
   ]
  },
  {
   "cell_type": "code",
   "execution_count": 32,
   "metadata": {},
   "outputs": [
    {
     "data": {
      "text/plain": [
       "true"
      ]
     },
     "execution_count": 32,
     "metadata": {},
     "output_type": "execute_result"
    }
   ],
   "source": [
    "scenario_report_scenario = reopt_post_processor.run_scenario_report(scenario_report)\n",
    "scenario_report_scenario.save('baseline_scenario')"
   ]
  },
  {
   "cell_type": "raw",
   "metadata": {},
   "source": [
    "In the terminal window running Jupyter Notebook, we see that we get a message that the API has been called. In the terminal, you will also see messages if defaults assumptions are used. To see what that will look like run the code below, which overwrites the REopt assumptions with nil. We also save the REopt reponse and updated CSV to alternate locations so that we do not overwrite previous results.\n",
    "\n",
    "In this case utility costs are assumed to be $0.13 /kWh without demand charges."
   ]
  },
  {
   "cell_type": "code",
   "execution_count": 33,
   "metadata": {},
   "outputs": [
    {
     "data": {
      "text/plain": [
       "true"
      ]
     },
     "execution_count": 33,
     "metadata": {},
     "output_type": "execute_result"
    }
   ],
   "source": [
    "reopt_post_processor.scenario_reopt_default_assumptions_hash = nil\n",
    "scenario_report_scenario_default = reopt_post_processor.run_scenario_report(scenario_report,nil,\n",
    "  \"./run/baseline_scenario/scenario_report_Baseline Scenario_reopt_run_DEFAULT.json\",\n",
    "  \"./run/baseline_scenario/scenario_report_Baseline Scenario_timeseries_DEFAULT.csv\")\n",
    "scenario_report_scenario_default.save('baseline_scenario_DEFAULT')"
   ]
  },
  {
   "cell_type": "raw",
   "metadata": {},
   "source": [
    "Let's next take a look at how to run the scenario from the feature level. This way we will call  REopt Lite for each feature before, aggregating results at the scenario level.\n",
    "\n",
    "Note this will take much longer than the previous step because we will call REopt 3 times."
   ]
  },
  {
   "cell_type": "code",
   "execution_count": 34,
   "metadata": {},
   "outputs": [
    {
     "data": {
      "text/plain": [
       "true"
      ]
     },
     "execution_count": 34,
     "metadata": {},
     "output_type": "execute_result"
    }
   ],
   "source": [
    "scenario_report_features = reopt_post_processor.run_scenario_report_features(scenario_report)\n",
    "scenario_report_features.save('baseline_features')"
   ]
  },
  {
   "cell_type": "markdown",
   "metadata": {},
   "source": [
    "## Results"
   ]
  },
  {
   "cell_type": "raw",
   "metadata": {},
   "source": [
    "Let's now take a look to see how sizing and financials compare from the scenario level and feature level analyses."
   ]
  },
  {
   "cell_type": "code",
   "execution_count": 19,
   "metadata": {},
   "outputs": [
    {
     "data": {
      "text/plain": [
       "true"
      ]
     },
     "execution_count": 19,
     "metadata": {},
     "output_type": "execute_result"
    }
   ],
   "source": [
    "s_pv = scenario_report_scenario.distributed_generation.solar_pv[0].size_kw\n",
    "s_storage_kw = scenario_report_scenario.distributed_generation.storage[0] .size_kw\n",
    "s_storage_kwh = scenario_report_scenario.distributed_generation.storage[0].size_kwh\n",
    "s_lcc = scenario_report_scenario.distributed_generation.lcc_us_dollars\n",
    "s_savings = scenario_report_scenario.distributed_generation.npv_us_dollars/scenario_report_scenario.distributed_generation.lcc_us_dollars\n",
    "\n",
    "f_pv = scenario_report_features.distributed_generation.solar_pv[0].size_kw\n",
    "f_storage_kw = scenario_report_features.distributed_generation.storage[0].size_kw\n",
    "f_storage_kwh = scenario_report_features.distributed_generation.storage[0].size_kwh\n",
    "f_lcc = scenario_report_features.distributed_generation.lcc_us_dollars\n",
    "f_pct_savings = scenario_report_features.distributed_generation.npv_us_dollars/scenario_report_features.distributed_generation.lcc_us_dollars\n",
    "\n",
    "true"
   ]
  },
  {
   "cell_type": "code",
   "execution_count": 20,
   "metadata": {},
   "outputs": [
    {
     "data": {
      "text/html": [
       "<div id='vis-b0625609-984d-489e-ace9-0a17d665b0e2'></div>\n",
       "<script>\n",
       "(function(){\n",
       "    var render = function(){\n",
       "        var model = {\"panes\":[{\"diagrams\":[{\"type\":\"bar\",\"options\":{\"x\":\"level\",\"y\":\"solar_pv_kw\"},\"data\":\"fbc36b5c-4835-45fa-ac12-b4652a15acdb\"}],\"options\":{\"x_label\":\"\",\"y_label\":\"kW\",\"width\":700,\"xrange\":[\"scenario\",\"feature\"],\"yrange\":[0,0.0]}}],\"data\":{\"fbc36b5c-4835-45fa-ac12-b4652a15acdb\":[{\"level\":\"scenario\",\"solar_pv_kw\":0.0},{\"level\":\"feature\",\"solar_pv_kw\":0.0}]},\"extension\":[]}\n",
       "        var id_name = '#vis-b0625609-984d-489e-ace9-0a17d665b0e2';\n",
       "        Nyaplot.core.parse(model, id_name);\n",
       "\n",
       "        require(['downloadable'], function(downloadable){\n",
       "          var svg = d3.select(id_name).select(\"svg\");\n",
       "\t  if(!svg.empty())\n",
       "\t    svg.call(downloadable().filename('fig'));\n",
       "\t});\n",
       "    };\n",
       "    if(window['Nyaplot']==undefined){\n",
       "        window.addEventListener('load_nyaplot', render, false);\n",
       "\treturn;\n",
       "    } else {\n",
       "       render();\n",
       "    }\n",
       "})();\n",
       "</script>\n"
      ],
      "text/plain": [
       "#<Nyaplot::Plot:0x007fd306c13b90 @properties={:diagrams=>[#<Nyaplot::Diagram:0x007fd306c12268 @properties={:type=>:bar, :options=>{:x=>:level, :y=>:solar_pv_kw}, :data=>\"fbc36b5c-4835-45fa-ac12-b4652a15acdb\"}, @xrange=[\"scenario\", \"feature\"], @yrange=[0, 0.0]>], :options=>{:x_label=>\"\", :y_label=>\"kW\", :width=>700, :xrange=>[\"scenario\", \"feature\"], :yrange=>[0, 0.0]}}>"
      ]
     },
     "execution_count": 20,
     "metadata": {},
     "output_type": "execute_result"
    }
   ],
   "source": [
    "#PV Capacity\n",
    "df = Daru::DataFrame.new({level:['scenario','feature'], solar_pv_kw:[s_pv,f_pv]})\n",
    "p1 = df.plot type: :bar, x: :level, y: :solar_pv_kw do |plot, diagram|\n",
    "  plot.x_label \"\"\n",
    "  plot.y_label \"kW\"\n",
    "end"
   ]
  },
  {
   "cell_type": "code",
   "execution_count": 37,
   "metadata": {},
   "outputs": [
    {
     "data": {
      "text/html": [
       "<div id='vis-4c1abf1c-7db0-48f1-93b9-4584429081ad'></div>\n",
       "<script>\n",
       "(function(){\n",
       "    var render = function(){\n",
       "        var model = {\"panes\":[{\"diagrams\":[{\"type\":\"bar\",\"options\":{\"x\":\"level\",\"y\":\"solar_pv_kw\"},\"data\":\"969ad864-f890-4dc2-a38e-b95c5a3f3cc3\"}],\"options\":{\"x_label\":\"\",\"y_label\":\"kW\",\"width\":700,\"xrange\":[\"scenario\",\"feature\"],\"yrange\":[0,772.6976000000001]}}],\"data\":{\"969ad864-f890-4dc2-a38e-b95c5a3f3cc3\":[{\"level\":\"scenario\",\"solar_pv_kw\":0.0},{\"level\":\"feature\",\"solar_pv_kw\":772.6976000000001}]},\"extension\":[]}\n",
       "        var id_name = '#vis-4c1abf1c-7db0-48f1-93b9-4584429081ad';\n",
       "        Nyaplot.core.parse(model, id_name);\n",
       "\n",
       "        require(['downloadable'], function(downloadable){\n",
       "          var svg = d3.select(id_name).select(\"svg\");\n",
       "\t  if(!svg.empty())\n",
       "\t    svg.call(downloadable().filename('fig'));\n",
       "\t});\n",
       "    };\n",
       "    if(window['Nyaplot']==undefined){\n",
       "        window.addEventListener('load_nyaplot', render, false);\n",
       "\treturn;\n",
       "    } else {\n",
       "       render();\n",
       "    }\n",
       "})();\n",
       "</script>\n"
      ],
      "text/plain": [
       "#<Nyaplot::Plot:0x007fc4d74c1208 @properties={:diagrams=>[#<Nyaplot::Diagram:0x007fc4d73f3088 @properties={:type=>:bar, :options=>{:x=>:level, :y=>:solar_pv_kw}, :data=>\"969ad864-f890-4dc2-a38e-b95c5a3f3cc3\"}, @xrange=[\"scenario\", \"feature\"], @yrange=[0, 772.6976000000001]>], :options=>{:x_label=>\"\", :y_label=>\"kW\", :width=>700, :xrange=>[\"scenario\", \"feature\"], :yrange=>[0, 772.6976000000001]}}>"
      ]
     },
     "execution_count": 37,
     "metadata": {},
     "output_type": "execute_result"
    }
   ],
   "source": [
    "#Storage kW\n",
    "df = Daru::DataFrame.new({level:['scenario','feature'], solar_pv_kw:[s_storage_kw,f_storage_kw]})\n",
    "p2 = df.plot type: :bar, x: :level, y: :solar_pv_kw do |plot, diagram|\n",
    "  plot.x_label \"\"\n",
    "  plot.y_label \"kW\"\n",
    "end"
   ]
  },
  {
   "cell_type": "code",
   "execution_count": 38,
   "metadata": {},
   "outputs": [
    {
     "data": {
      "text/html": [
       "<div id='vis-c277bcc0-2de6-4ddf-abba-8379ab04b7f1'></div>\n",
       "<script>\n",
       "(function(){\n",
       "    var render = function(){\n",
       "        var model = {\"panes\":[{\"diagrams\":[{\"type\":\"bar\",\"options\":{\"x\":\"level\",\"y\":\"solar_pv_kw\"},\"data\":\"749a6dc0-fd2d-441c-a153-dbe35697c3b6\"}],\"options\":{\"x_label\":\"\",\"y_label\":\"kWh\",\"width\":700,\"xrange\":[\"scenario\",\"feature\"],\"yrange\":[0,2033.0894]}}],\"data\":{\"749a6dc0-fd2d-441c-a153-dbe35697c3b6\":[{\"level\":\"scenario\",\"solar_pv_kw\":0.0},{\"level\":\"feature\",\"solar_pv_kw\":2033.0894}]},\"extension\":[]}\n",
       "        var id_name = '#vis-c277bcc0-2de6-4ddf-abba-8379ab04b7f1';\n",
       "        Nyaplot.core.parse(model, id_name);\n",
       "\n",
       "        require(['downloadable'], function(downloadable){\n",
       "          var svg = d3.select(id_name).select(\"svg\");\n",
       "\t  if(!svg.empty())\n",
       "\t    svg.call(downloadable().filename('fig'));\n",
       "\t});\n",
       "    };\n",
       "    if(window['Nyaplot']==undefined){\n",
       "        window.addEventListener('load_nyaplot', render, false);\n",
       "\treturn;\n",
       "    } else {\n",
       "       render();\n",
       "    }\n",
       "})();\n",
       "</script>\n"
      ],
      "text/plain": [
       "#<Nyaplot::Plot:0x007fc4d67c33d0 @properties={:diagrams=>[#<Nyaplot::Diagram:0x007fc4d67c11e8 @properties={:type=>:bar, :options=>{:x=>:level, :y=>:solar_pv_kw}, :data=>\"749a6dc0-fd2d-441c-a153-dbe35697c3b6\"}, @xrange=[\"scenario\", \"feature\"], @yrange=[0, 2033.0894]>], :options=>{:x_label=>\"\", :y_label=>\"kWh\", :width=>700, :xrange=>[\"scenario\", \"feature\"], :yrange=>[0, 2033.0894]}}>"
      ]
     },
     "execution_count": 38,
     "metadata": {},
     "output_type": "execute_result"
    }
   ],
   "source": [
    "#Storage kWh\n",
    "df = Daru::DataFrame.new({level:['scenario','feature'], solar_pv_kw:[s_storage_kwh,f_storage_kwh]})\n",
    "p3 = df.plot type: :bar, x: :level, y: :solar_pv_kw do |plot, diagram|\n",
    "  plot.x_label \"\"\n",
    "  plot.y_label \"kWh\"\n",
    "end"
   ]
  },
  {
   "cell_type": "code",
   "execution_count": 39,
   "metadata": {},
   "outputs": [
    {
     "data": {
      "text/html": [
       "<div id='vis-ee0915dc-1e94-4dd4-9b9a-70c87c5c71db'></div>\n",
       "<script>\n",
       "(function(){\n",
       "    var render = function(){\n",
       "        var model = {\"panes\":[{\"diagrams\":[{\"type\":\"bar\",\"options\":{\"x\":\"level\",\"y\":\"solar_pv_kw\"},\"data\":\"c499ce8b-cdc1-49aa-9a11-4a877c01bc19\"}],\"options\":{\"x_label\":\"\",\"y_label\":\"$\",\"width\":700,\"xrange\":[\"scenario\",\"feature\"],\"yrange\":[0,38103224.0]}}],\"data\":{\"c499ce8b-cdc1-49aa-9a11-4a877c01bc19\":[{\"level\":\"scenario\",\"solar_pv_kw\":31722340.0},{\"level\":\"feature\",\"solar_pv_kw\":38103224.0}]},\"extension\":[]}\n",
       "        var id_name = '#vis-ee0915dc-1e94-4dd4-9b9a-70c87c5c71db';\n",
       "        Nyaplot.core.parse(model, id_name);\n",
       "\n",
       "        require(['downloadable'], function(downloadable){\n",
       "          var svg = d3.select(id_name).select(\"svg\");\n",
       "\t  if(!svg.empty())\n",
       "\t    svg.call(downloadable().filename('fig'));\n",
       "\t});\n",
       "    };\n",
       "    if(window['Nyaplot']==undefined){\n",
       "        window.addEventListener('load_nyaplot', render, false);\n",
       "\treturn;\n",
       "    } else {\n",
       "       render();\n",
       "    }\n",
       "})();\n",
       "</script>\n"
      ],
      "text/plain": [
       "#<Nyaplot::Plot:0x007fc4d6199298 @properties={:diagrams=>[#<Nyaplot::Diagram:0x007fc4d61032e8 @properties={:type=>:bar, :options=>{:x=>:level, :y=>:solar_pv_kw}, :data=>\"c499ce8b-cdc1-49aa-9a11-4a877c01bc19\"}, @xrange=[\"scenario\", \"feature\"], @yrange=[0, 38103224.0]>], :options=>{:x_label=>\"\", :y_label=>\"$\", :width=>700, :xrange=>[\"scenario\", \"feature\"], :yrange=>[0, 38103224.0]}}>"
      ]
     },
     "execution_count": 39,
     "metadata": {},
     "output_type": "execute_result"
    }
   ],
   "source": [
    "#Lifecycle Costs\n",
    "df = Daru::DataFrame.new({level:['scenario','feature'], solar_pv_kw:[s_lcc,f_lcc]})\n",
    "p4 = df.plot type: :bar, x: :level, y: :solar_pv_kw do |plot, diagram|\n",
    "  plot.x_label \"\"\n",
    "  plot.y_label \"$\"\n",
    "end"
   ]
  },
  {
   "cell_type": "code",
   "execution_count": 40,
   "metadata": {},
   "outputs": [
    {
     "data": {
      "text/html": [
       "<div id='vis-7a0d156c-1b11-499c-9778-eeb7f0b5d64e'></div>\n",
       "<script>\n",
       "(function(){\n",
       "    var render = function(){\n",
       "        var model = {\"panes\":[{\"diagrams\":[{\"type\":\"bar\",\"options\":{\"x\":\"level\",\"y\":\"solar_pv_kw\"},\"data\":\"f7e2b625-ed0e-4718-a969-3ed424dca9b8\"}],\"options\":{\"x_label\":\"\",\"y_label\":\"%\",\"width\":700,\"xrange\":[\"scenario\",\"feature\"],\"yrange\":[0,0.06527850719713615]}}],\"data\":{\"f7e2b625-ed0e-4718-a969-3ed424dca9b8\":[{\"level\":\"scenario\",\"solar_pv_kw\":0.06527850719713615},{\"level\":\"feature\",\"solar_pv_kw\":0.03948857451012544}]},\"extension\":[]}\n",
       "        var id_name = '#vis-7a0d156c-1b11-499c-9778-eeb7f0b5d64e';\n",
       "        Nyaplot.core.parse(model, id_name);\n",
       "\n",
       "        require(['downloadable'], function(downloadable){\n",
       "          var svg = d3.select(id_name).select(\"svg\");\n",
       "\t  if(!svg.empty())\n",
       "\t    svg.call(downloadable().filename('fig'));\n",
       "\t});\n",
       "    };\n",
       "    if(window['Nyaplot']==undefined){\n",
       "        window.addEventListener('load_nyaplot', render, false);\n",
       "\treturn;\n",
       "    } else {\n",
       "       render();\n",
       "    }\n",
       "})();\n",
       "</script>\n"
      ],
      "text/plain": [
       "#<Nyaplot::Plot:0x007fc4d580b410 @properties={:diagrams=>[#<Nyaplot::Diagram:0x007fc4d58094d0 @properties={:type=>:bar, :options=>{:x=>:level, :y=>:solar_pv_kw}, :data=>\"f7e2b625-ed0e-4718-a969-3ed424dca9b8\"}, @xrange=[\"scenario\", \"feature\"], @yrange=[0, 0.06527850719713615]>], :options=>{:x_label=>\"\", :y_label=>\"%\", :width=>700, :xrange=>[\"scenario\", \"feature\"], :yrange=>[0, 0.06527850719713615]}}>"
      ]
     },
     "execution_count": 40,
     "metadata": {},
     "output_type": "execute_result"
    }
   ],
   "source": [
    "#Percent Savings\n",
    "df = Daru::DataFrame.new({level:['scenario','feature'], solar_pv_kw:[s_savings,f_pct_savings]})\n",
    "p5 = df.plot type: :bar, x: :level, y: :solar_pv_kw do |plot, diagram|\n",
    "  plot.x_label \"\"\n",
    "  plot.y_label \"%\"\n",
    "end"
   ]
  },
  {
   "cell_type": "raw",
   "metadata": {},
   "source": [
    "From these results, we see in our example project that DER's sized to a community-aggregated load would yield a 8,000 kW PV system without storage. At the feature level, solar and storage systems make economic sense (we need to dig into individual responses to see individual system types), however, in aggregate they result in greater lifecycle costs and 2/3 the savings compared to the aggregated approach. \n"
   ]
  }
 ],
 "metadata": {
  "kernelspec": {
   "display_name": "Ruby 2.2.4",
   "language": "ruby",
   "name": "ruby"
  },
  "language_info": {
   "file_extension": ".rb",
   "mimetype": "application/x-ruby",
   "name": "ruby",
   "version": "2.2.4"
  }
 },
 "nbformat": 4,
 "nbformat_minor": 2
}
